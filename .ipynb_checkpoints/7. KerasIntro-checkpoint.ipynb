{
 "cells": [
  {
   "cell_type": "code",
   "execution_count": 1,
   "metadata": {
    "ExecuteTime": {
     "end_time": "2019-06-26T05:15:24.330829Z",
     "start_time": "2019-06-26T05:15:19.391569Z"
    }
   },
   "outputs": [
    {
     "name": "stderr",
     "output_type": "stream",
     "text": [
      "Using TensorFlow backend.\n"
     ]
    }
   ],
   "source": [
    "from keras.models import Sequential\n",
    "from keras.layers import Dense"
   ]
  },
  {
   "cell_type": "code",
   "execution_count": 2,
   "metadata": {
    "ExecuteTime": {
     "end_time": "2019-06-26T05:15:24.377616Z",
     "start_time": "2019-06-26T05:15:24.330829Z"
    }
   },
   "outputs": [],
   "source": [
    "# Creating a Model\n",
    "model = Sequential()"
   ]
  },
  {
   "cell_type": "code",
   "execution_count": 3,
   "metadata": {
    "ExecuteTime": {
     "end_time": "2019-06-26T05:15:24.533727Z",
     "start_time": "2019-06-26T05:15:24.389605Z"
    }
   },
   "outputs": [],
   "source": [
    "layer1 = Dense(units=32, activation = 'relu', input_dim = 30)\n",
    "model.add(layer1)\n",
    "model.add(Dense(units=16, activation = 'relu'))\n",
    "model.add(Dense(units=1, activation = 'sigmoid'))"
   ]
  },
  {
   "cell_type": "code",
   "execution_count": 4,
   "metadata": {
    "ExecuteTime": {
     "end_time": "2019-06-26T05:15:24.651795Z",
     "start_time": "2019-06-26T05:15:24.541713Z"
    }
   },
   "outputs": [],
   "source": [
    "model.compile(optimizer='adam', loss='binary_crossentropy', metrics=['accuracy'])"
   ]
  },
  {
   "cell_type": "code",
   "execution_count": 5,
   "metadata": {
    "ExecuteTime": {
     "end_time": "2019-06-26T05:15:26.464621Z",
     "start_time": "2019-06-26T05:15:25.072090Z"
    }
   },
   "outputs": [],
   "source": [
    "from sklearn import datasets\n",
    "cancer = datasets.load_breast_cancer()\n",
    "from sklearn.model_selection import train_test_split\n",
    "\n",
    "x_train, x_test, y_train, y_test = train_test_split(cancer.data, cancer.target, test_size = 0.2, random_state = 0)\n",
    "\n",
    "from sklearn.preprocessing import StandardScaler\n",
    "\n",
    "sc = StandardScaler()\n",
    "x_train = sc.fit_transform(x_train)\n",
    "x_test = sc.transform(x_test)"
   ]
  },
  {
   "cell_type": "code",
   "execution_count": 6,
   "metadata": {
    "ExecuteTime": {
     "end_time": "2019-06-26T05:15:33.869517Z",
     "start_time": "2019-06-26T05:15:27.154728Z"
    }
   },
   "outputs": [
    {
     "name": "stdout",
     "output_type": "stream",
     "text": [
      "Train on 455 samples, validate on 114 samples\n",
      "Epoch 1/20\n",
      "455/455 [==============================] - 3s 7ms/step - loss: 0.7844 - acc: 0.3978 - val_loss: 0.6625 - val_acc: 0.5263\n",
      "Epoch 2/20\n",
      "455/455 [==============================] - 0s 79us/step - loss: 0.6224 - acc: 0.6132 - val_loss: 0.5367 - val_acc: 0.7719\n",
      "Epoch 3/20\n",
      "455/455 [==============================] - 0s 84us/step - loss: 0.4983 - acc: 0.8703 - val_loss: 0.4312 - val_acc: 0.8421\n",
      "Epoch 4/20\n",
      "455/455 [==============================] - 0s 70us/step - loss: 0.3963 - acc: 0.9275 - val_loss: 0.3488 - val_acc: 0.8860\n",
      "Epoch 5/20\n",
      "455/455 [==============================] - 0s 86us/step - loss: 0.3160 - acc: 0.9429 - val_loss: 0.2863 - val_acc: 0.9035\n",
      "Epoch 6/20\n",
      "455/455 [==============================] - 0s 75us/step - loss: 0.2569 - acc: 0.9429 - val_loss: 0.2390 - val_acc: 0.9035\n",
      "Epoch 7/20\n",
      "455/455 [==============================] - 0s 73us/step - loss: 0.2127 - acc: 0.9495 - val_loss: 0.2048 - val_acc: 0.9123\n",
      "Epoch 8/20\n",
      "455/455 [==============================] - 0s 73us/step - loss: 0.1793 - acc: 0.9626 - val_loss: 0.1798 - val_acc: 0.9123\n",
      "Epoch 9/20\n",
      "455/455 [==============================] - 0s 70us/step - loss: 0.1550 - acc: 0.9670 - val_loss: 0.1593 - val_acc: 0.9123\n",
      "Epoch 10/20\n",
      "455/455 [==============================] - 0s 73us/step - loss: 0.1362 - acc: 0.9692 - val_loss: 0.1451 - val_acc: 0.9211\n",
      "Epoch 11/20\n",
      "455/455 [==============================] - 0s 81us/step - loss: 0.1222 - acc: 0.9714 - val_loss: 0.1340 - val_acc: 0.9298\n",
      "Epoch 12/20\n",
      "455/455 [==============================] - 0s 68us/step - loss: 0.1108 - acc: 0.9714 - val_loss: 0.1245 - val_acc: 0.9298\n",
      "Epoch 13/20\n",
      "455/455 [==============================] - 0s 70us/step - loss: 0.1024 - acc: 0.9736 - val_loss: 0.1151 - val_acc: 0.9649\n",
      "Epoch 14/20\n",
      "455/455 [==============================] - 0s 79us/step - loss: 0.0956 - acc: 0.9758 - val_loss: 0.1081 - val_acc: 0.9649\n",
      "Epoch 15/20\n",
      "455/455 [==============================] - 0s 70us/step - loss: 0.0901 - acc: 0.9780 - val_loss: 0.1026 - val_acc: 0.9649\n",
      "Epoch 16/20\n",
      "455/455 [==============================] - 0s 70us/step - loss: 0.0853 - acc: 0.9824 - val_loss: 0.0979 - val_acc: 0.9649\n",
      "Epoch 17/20\n",
      "455/455 [==============================] - 0s 73us/step - loss: 0.0809 - acc: 0.9824 - val_loss: 0.0939 - val_acc: 0.9649\n",
      "Epoch 18/20\n",
      "455/455 [==============================] - 0s 75us/step - loss: 0.0772 - acc: 0.9846 - val_loss: 0.0896 - val_acc: 0.9649\n",
      "Epoch 19/20\n",
      "455/455 [==============================] - 0s 73us/step - loss: 0.0737 - acc: 0.9846 - val_loss: 0.0852 - val_acc: 0.9649\n",
      "Epoch 20/20\n",
      "455/455 [==============================] - 0s 70us/step - loss: 0.0709 - acc: 0.9846 - val_loss: 0.0819 - val_acc: 0.9649\n"
     ]
    },
    {
     "data": {
      "text/plain": [
       "<keras.callbacks.History at 0xb5b7895eb8>"
      ]
     },
     "execution_count": 6,
     "metadata": {},
     "output_type": "execute_result"
    }
   ],
   "source": [
    "model.fit(x_train, y_train, epochs=20, batch_size = 50, validation_data=(x_test, y_test))"
   ]
  },
  {
   "cell_type": "code",
   "execution_count": 7,
   "metadata": {
    "ExecuteTime": {
     "end_time": "2019-06-26T05:15:39.730722Z",
     "start_time": "2019-06-26T05:15:39.663513Z"
    }
   },
   "outputs": [
    {
     "name": "stdout",
     "output_type": "stream",
     "text": [
      "114/114 [==============================] - 0s 53us/step\n"
     ]
    },
    {
     "data": {
      "text/plain": [
       "[0.08194821733131744, 0.9649122765189723]"
      ]
     },
     "execution_count": 7,
     "metadata": {},
     "output_type": "execute_result"
    }
   ],
   "source": [
    "predictions = model.predict(x_test)\n",
    "score = model.evaluate(x_test, y_test)\n",
    "score"
   ]
  }
 ],
 "metadata": {
  "hide_input": false,
  "kernelspec": {
   "display_name": "Python 3",
   "language": "python",
   "name": "python3"
  },
  "toc": {
   "base_numbering": 1,
   "nav_menu": {},
   "number_sections": true,
   "sideBar": true,
   "skip_h1_title": false,
   "title_cell": "Table of Contents",
   "title_sidebar": "Contents",
   "toc_cell": false,
   "toc_position": {},
   "toc_section_display": true,
   "toc_window_display": false
  }
 },
 "nbformat": 4,
 "nbformat_minor": 2
}
